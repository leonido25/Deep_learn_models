{
 "cells": [
  {
   "cell_type": "code",
   "execution_count": 73,
   "id": "bb9c503b-1120-44ba-b4b6-5cd78f687ca9",
   "metadata": {},
   "outputs": [],
   "source": [
    "import torch\n",
    "import torch.nn as nn\n",
    "import torch.nn.functional as F\n",
    "import torch.optim as optim\n",
    "from torchvision import datasets, transforms\n",
    "from torch.utils.data import DataLoader, TensorDataset\n",
    "from random import randint\n",
    "import matplotlib.pyplot as plt\n",
    "import numpy as np\n",
    "from torch.utils.data import Dataset\n",
    "import lightning as L\n",
    "from torch.optim import Adam\n",
    "import os\n",
    "import pandas as pd"
   ]
  },
  {
   "cell_type": "code",
   "execution_count": 55,
   "id": "11fda32c-f2a5-4832-96ec-d9df20685526",
   "metadata": {},
   "outputs": [],
   "source": [
    "class simple_lstm(nn.Module):\n",
    "    def __init__(self, in_features, hidden_size, layer_size, out_features):\n",
    "        super(simple_lstm, self).__init__()\n",
    "        self.hidden_size = hidden_size\n",
    "        self.layer_size = layer_size\n",
    "        self.lstm = nn.LSTM(in_features, hidden_size, layer_size, batch_first=True)\n",
    "        self.fc = nn.Linear(hidden_size, out_features)\n",
    "    def forward(self, x, h0=None, c0=None):\n",
    "      if h0 is None or c0 is None:\n",
    "          h0 = torch.zeros(self.layer_size, x.size(0), self.hidden_size).to(x.device)\n",
    "          c0 = torch.zeros(self.layer_size, x.size(0), self.hidden_size).to(x.device)\n",
    "      out, (hn, cn) = self.lstm(x, (h0, c0))\n",
    "      out = self.fc(out[:, -1, :])\n",
    "      return out, hn, cn"
   ]
  },
  {
   "cell_type": "markdown",
   "id": "c54395b8-534f-4f0f-8516-6149c2ebef38",
   "metadata": {},
   "source": [
    "Реализуем датасет вручную"
   ]
  },
  {
   "cell_type": "code",
   "execution_count": 58,
   "id": "43950097-283f-4b4b-b1d8-6218b0649f00",
   "metadata": {},
   "outputs": [],
   "source": [
    "np.random.seed(0)\n",
    "torch.manual_seed(0)\n",
    "t = np.linspace(0, 100, 1000)\n",
    "data = np.sin(t)\n",
    "\n",
    "def sinteticdataset(data, seq_len):\n",
    "    x_t = []\n",
    "    y_t = []\n",
    "    for i in range(len(data) - seq_len):\n",
    "        x = data[i:(i+seq_len)]\n",
    "        y = data[i+seq_len]\n",
    "        x_t.append(x)\n",
    "        y_t.append(y)\n",
    "    return np.array(x_t), np.array(y_t)\n",
    "\n",
    "seq_len = 10\n",
    "X, y = sinteticdataset(data, seq_len)\n",
    "trainX = torch.tensor(X[:, :, None], dtype=torch.float32)\n",
    "trainY = torch.tensor(y[:, None], dtype=torch.float32)"
   ]
  },
  {
   "cell_type": "code",
   "execution_count": 60,
   "id": "13b4e5b8-9090-42f5-abdb-c1b96b361567",
   "metadata": {},
   "outputs": [],
   "source": [
    "model = simple_lstm(in_features=1, hidden_size=100, layer_size=1, out_features=1)\n",
    "criterion = nn.MSELoss()\n",
    "optimizer = torch.optim.Adam(model.parameters(), lr=0.01)"
   ]
  },
  {
   "cell_type": "code",
   "execution_count": 62,
   "id": "b5421f38-a31e-4e9f-849f-4f0bd9be25a9",
   "metadata": {},
   "outputs": [
    {
     "name": "stdout",
     "output_type": "stream",
     "text": [
      "Epoch [10/100], Loss: 0.2866\n",
      "Epoch [20/100], Loss: 0.0900\n",
      "Epoch [30/100], Loss: 0.0379\n",
      "Epoch [40/100], Loss: 0.0184\n",
      "Epoch [50/100], Loss: 0.0027\n",
      "Epoch [60/100], Loss: 0.0004\n",
      "Epoch [70/100], Loss: 0.0008\n",
      "Epoch [80/100], Loss: 0.0003\n",
      "Epoch [90/100], Loss: 0.0001\n",
      "Epoch [100/100], Loss: 0.0001\n"
     ]
    }
   ],
   "source": [
    "num_epochs = 100\n",
    "h0 = None\n",
    "c0 = None\n",
    "for i in range(num_epochs):\n",
    "    model.train()\n",
    "    optimizer.zero_grad()\n",
    "    outputs, h0, c0 = model(trainX, h0, c0)\n",
    "    loss = criterion(outputs, trainY)\n",
    "    loss.backward()\n",
    "    optimizer.step()\n",
    "    h0 = h0.detach()\n",
    "    c0 = c0.detach()\n",
    "\n",
    "    if (i+1) % 10 == 0:\n",
    "        print(f'Epoch [{i+1}/{num_epochs}], Loss: {loss.item():.4f}')"
   ]
  },
  {
   "cell_type": "markdown",
   "id": "aa20b22d-3cfa-482c-8bc2-eb5940cfe1b3",
   "metadata": {},
   "source": [
    "Реализую lstm руками и сравню скорость обучения"
   ]
  },
  {
   "cell_type": "code",
   "execution_count": 65,
   "id": "5596ab84-971a-4db1-934a-929849f3e5c4",
   "metadata": {},
   "outputs": [],
   "source": [
    "class lstm_byhand(L.LightningModule):\n",
    "    def __init__(self, in_features, hidden_size, layer_size, out_features):\n",
    "        super().__init__()\n",
    "        mean = torch.tensor(0.0)\n",
    "        std = torch.tensor(1.0)\n",
    "        self.wlr1 = nn.Parameter(torch.normal(mean=mean, std=std), requires_grad=True)\n",
    "        self.wlr2 = nn.Parameter(torch.normal(mean=mean, std=std), requires_grad=True)\n",
    "        self.blr1 = nn.Parameter(torch.tensor(0.), requires_grad=True)\n",
    "\n",
    "        self.wpr1 = nn.Parameter(torch.normal(mean=mean, std=std), requires_grad=True)\n",
    "        self.wpr2 = nn.Parameter(torch.normal(mean=mean, std=std), requires_grad=True)\n",
    "        self.bpr1 = nn.Parameter(torch.tensor(0.), requires_grad=True)\n",
    "\n",
    "        self.wp1 = nn.Parameter(torch.normal(mean=mean, std=std), requires_grad=True)\n",
    "        self.wp2 = nn.Parameter(torch.normal(mean=mean, std=std), requires_grad=True)\n",
    "        self.bp1 = nn.Parameter(torch.tensor(0.), requires_grad=True)\n",
    "\n",
    "        self.wo1 = nn.Parameter(torch.normal(mean=mean, std=std), requires_grad=True)\n",
    "        self.wo2 = nn.Parameter(torch.normal(mean=mean, std=std), requires_grad=True)\n",
    "        self.bo1 = nn.Parameter(torch.tensor(0.), requires_grad=True)\n",
    "\n",
    "        self.hidden_size = hidden_size\n",
    "        self.layer_size = layer_size\n",
    "        self.fc = nn.Linear(hidden_size, out_features)\n",
    "\n",
    "    def lstm_block(self, input_value, long_memory, short_memory):\n",
    "        long_percent_remember = torch.sigmoid((input_value * self.wlr2)\n",
    "                                               + (short_memory * self.wlr1)\n",
    "                                               + self.blr1)\n",
    "        pot_percent_remember = torch.sigmoid((input_value * self.wpr2) +\n",
    "                                             (short_memory * self.wpr1) +\n",
    "                                             self.bpr1)\n",
    "        pot_long_memory = torch.tanh((input_value * self.wp2) +\n",
    "                                             (short_memory * self.wp1) +\n",
    "                                             self.bp1)\n",
    "\n",
    "        new_ltm = (pot_long_memory * pot_percent_remember) + (long_percent_remember * long_memory)\n",
    "\n",
    "        pot_percent_memory_remember = torch.sigmoid((input_value * self.wo2) +\n",
    "                                             (short_memory * self.wo1) +\n",
    "                                             self.bo1)\n",
    "\n",
    "        new_short_memory = torch.tanh(new_ltm) * pot_percent_memory_remember\n",
    "\n",
    "        return ([new_ltm, new_short_memory])\n",
    "\n",
    "    def forward(self, x, h0=None, c0=None):\n",
    "      if h0 is None or c0 is None:\n",
    "          h0 = torch.zeros(self.layer_size, x.size(0), self.hidden_size).to(x.device)\n",
    "          c0 = torch.zeros(self.layer_size, x.size(0), self.hidden_size).to(x.device)\n",
    "      out, (hn, cn) = self.lstm_block(x, (h0, c0))\n",
    "      out = self.fc(out[:, -1, :])\n",
    "      return out, hn, cn"
   ]
  },
  {
   "cell_type": "code",
   "execution_count": 67,
   "id": "2e0f5c9b-8b29-4cf3-90fb-8d92898c776b",
   "metadata": {},
   "outputs": [],
   "source": [
    "model_by_hand = lstm_byhand(in_features=1, hidden_size=100, layer_size=1, out_features=1)\n",
    "criterion = nn.MSELoss()\n",
    "optimizer = torch.optim.Adam(model.parameters(), lr=0.01)"
   ]
  },
  {
   "cell_type": "code",
   "execution_count": 69,
   "id": "71d0de39-d7eb-4aaa-b002-29934cc1b590",
   "metadata": {},
   "outputs": [
    {
     "name": "stdout",
     "output_type": "stream",
     "text": [
      "Epoch [10/100], Loss: 0.0312\n",
      "Epoch [20/100], Loss: 0.0132\n",
      "Epoch [30/100], Loss: 0.0036\n",
      "Epoch [40/100], Loss: 0.0004\n",
      "Epoch [50/100], Loss: 0.0005\n",
      "Epoch [60/100], Loss: 0.0002\n",
      "Epoch [70/100], Loss: 0.0000\n",
      "Epoch [80/100], Loss: 0.0000\n",
      "Epoch [90/100], Loss: 0.0000\n",
      "Epoch [100/100], Loss: 0.0000\n"
     ]
    }
   ],
   "source": [
    "num_epochs = 100\n",
    "h0 = None\n",
    "c0 = None\n",
    "for i in range(num_epochs):\n",
    "    model_by_hand.train()\n",
    "    optimizer.zero_grad()\n",
    "    outputs, h0, c0 = model(trainX, h0, c0)\n",
    "    loss = criterion(outputs, trainY)\n",
    "    loss.backward()\n",
    "    optimizer.step()\n",
    "    h0 = h0.detach()\n",
    "    c0 = c0.detach()\n",
    "\n",
    "    if (i+1) % 10 == 0:\n",
    "        print(f'Epoch [{i+1}/{num_epochs}], Loss: {loss.item():.4f}')"
   ]
  },
  {
   "cell_type": "markdown",
   "id": "31d95b22-5790-46c9-bcc3-c431a16ff8ad",
   "metadata": {},
   "source": [
    "Забавно, но реализованный руками блок, быстрее зануляет лосс"
   ]
  },
  {
   "cell_type": "markdown",
   "id": "f03d60cc-ac78-4651-b93d-519615d5092b",
   "metadata": {},
   "source": [
    "Реализую другую модельку, предсказывающую значение пятого дня"
   ]
  },
  {
   "cell_type": "code",
   "execution_count": 8,
   "id": "ba9cd887-06ae-4102-bc39-6bc8d2564afa",
   "metadata": {},
   "outputs": [],
   "source": [
    "class lstm_byhand(L.LightningModule):\n",
    "    def __init__(self):\n",
    "        super().__init__()\n",
    "        mean = torch.tensor(0.0)\n",
    "        std = torch.tensor(1.0)\n",
    "        self.wlr1 = nn.Parameter(torch.normal(mean=mean, std=std), requires_grad=True)\n",
    "        self.wlr2 = nn.Parameter(torch.normal(mean=mean, std=std), requires_grad=True)\n",
    "        self.blr1 = nn.Parameter(torch.tensor(0.), requires_grad=True)\n",
    "\n",
    "        self.wpr1 = nn.Parameter(torch.normal(mean=mean, std=std), requires_grad=True)\n",
    "        self.wpr2 = nn.Parameter(torch.normal(mean=mean, std=std), requires_grad=True)\n",
    "        self.bpr1 = nn.Parameter(torch.tensor(0.), requires_grad=True)\n",
    "\n",
    "        self.wp1 = nn.Parameter(torch.normal(mean=mean, std=std), requires_grad=True)\n",
    "        self.wp2 = nn.Parameter(torch.normal(mean=mean, std=std), requires_grad=True)\n",
    "        self.bp1 = nn.Parameter(torch.tensor(0.), requires_grad=True)\n",
    "\n",
    "        self.wo1 = nn.Parameter(torch.normal(mean=mean, std=std), requires_grad=True)\n",
    "        self.wo2 = nn.Parameter(torch.normal(mean=mean, std=std), requires_grad=True)\n",
    "        self.bo1 = nn.Parameter(torch.tensor(0.), requires_grad=True)\n",
    "\n",
    "    def lstm_block(self, input_value, long_memory, short_memory):\n",
    "        long_percent_remember = torch.sigmoid((input_value * self.wlr2)\n",
    "                                               + (short_memory * self.wlr1)\n",
    "                                               + self.blr1)\n",
    "        pot_percent_remember = torch.sigmoid((input_value * self.wpr2) +\n",
    "                                             (short_memory * self.wpr1) +\n",
    "                                             self.bpr1)\n",
    "        pot_long_memory = torch.tanh((input_value * self.wp2) +\n",
    "                                             (short_memory * self.wp1) +\n",
    "                                             self.bp1)\n",
    "\n",
    "        new_ltm = (pot_long_memory * pot_percent_remember) + (long_percent_remember * long_memory)\n",
    "\n",
    "        pot_percent_memory_remember = torch.sigmoid((input_value * self.wo2) +\n",
    "                                             (short_memory * self.wo1) +\n",
    "                                             self.bo1)\n",
    "\n",
    "        new_short_memory = torch.tanh(new_ltm) * pot_percent_memory_remember\n",
    "\n",
    "        return ([new_ltm, new_short_memory])\n",
    "\n",
    "    def forward(self, input):\n",
    "        long_memory = 0\n",
    "        short_memory = 0\n",
    "        day1 = input[0]\n",
    "        day2 = input[1]\n",
    "        day3 = input[2]\n",
    "        day4 = input[3]\n",
    "        long_memory, short_memory = self.lstm_block(day1, long_memory, short_memory)\n",
    "        long_memory, short_memory = self.lstm_block(day2, long_memory, short_memory)\n",
    "        long_memory, short_memory = self.lstm_block(day3, long_memory, short_memory)\n",
    "        long_memory, short_memory = self.lstm_block(day4, long_memory, short_memory)\n",
    "        return short_memory\n",
    "        \n",
    "    def configure_optimizers(self):\n",
    "        return Adam(self.parameters())\n",
    "\n",
    "    def training_step(self, batch, batch_idx):\n",
    "        input_i, label_i = batch\n",
    "        output_i = self.forward(input_i[0])\n",
    "        loss = (output_i - label_i)**2 \n",
    "        \n",
    "        self.log('train_loss', loss)\n",
    "        if (label_i==0):\n",
    "            self.log('out_0', output_i)\n",
    "        else:\n",
    "            self.log('out_1', output_i)\n",
    "        return loss"
   ]
  },
  {
   "cell_type": "code",
   "execution_count": 9,
   "id": "a5183df2-db27-4ce3-8621-d0d694a6d42f",
   "metadata": {},
   "outputs": [],
   "source": [
    "model2 = lstm_byhand()"
   ]
  },
  {
   "cell_type": "code",
   "execution_count": 10,
   "id": "1d137cf8-9773-44bf-acf1-20bac89cf990",
   "metadata": {},
   "outputs": [
    {
     "name": "stdout",
     "output_type": "stream",
     "text": [
      "company A, OBSERVED 0, predicted= tensor(-0.0839)\n",
      "company B, OBSERVED 1, predicted= tensor(-0.0886)\n"
     ]
    }
   ],
   "source": [
    "print('company A, OBSERVED 0, predicted=', model2(torch.tensor([0., 0.5, 0.25, 1.])).detach())\n",
    "\n",
    "print('company B, OBSERVED 1, predicted=', model2(torch.tensor([1., 0.5, 0.25, 1.])).detach())"
   ]
  },
  {
   "cell_type": "code",
   "execution_count": 11,
   "id": "ba8d548f-1953-46e3-a924-9cfa41d08a02",
   "metadata": {},
   "outputs": [],
   "source": [
    "inputs = torch.tensor([[0., 0.5, 0.25, 1.], [1., 0.5, 0.25, 1.]])\n",
    "labels = torch.tensor([0., 1.])"
   ]
  },
  {
   "cell_type": "code",
   "execution_count": 12,
   "id": "9e763103-82b8-475b-8baa-d2622b5124bd",
   "metadata": {},
   "outputs": [],
   "source": [
    "dataset = TensorDataset(inputs, labels)\n",
    "dataloader = DataLoader(dataset)"
   ]
  },
  {
   "cell_type": "code",
   "execution_count": 13,
   "id": "c6f4b2e5-80f6-49b3-b890-0b940074192e",
   "metadata": {},
   "outputs": [
    {
     "name": "stderr",
     "output_type": "stream",
     "text": [
      "💡 Tip: For seamless cloud uploads and versioning, try installing [litmodels](https://pypi.org/project/litmodels/) to enable LitModelCheckpoint, which syncs automatically with the Lightning model registry.\n",
      "GPU available: False, used: False\n",
      "TPU available: False, using: 0 TPU cores\n",
      "HPU available: False, using: 0 HPUs\n"
     ]
    }
   ],
   "source": [
    "trainer = L.Trainer(max_epochs=4000)"
   ]
  },
  {
   "cell_type": "code",
   "execution_count": 14,
   "id": "35cda6f0-3e0f-41fe-b0ac-7ba0559c1b9c",
   "metadata": {},
   "outputs": [
    {
     "name": "stderr",
     "output_type": "stream",
     "text": [
      "\n",
      "  | Name         | Type | Params | Mode\n",
      "---------------------------------------------\n",
      "  | other params | n/a  | 12     | n/a \n",
      "---------------------------------------------\n",
      "12        Trainable params\n",
      "0         Non-trainable params\n",
      "12        Total params\n",
      "0.000     Total estimated model params size (MB)\n",
      "0         Modules in train mode\n",
      "0         Modules in eval mode\n",
      "E:\\anaconda\\Lib\\site-packages\\lightning\\pytorch\\trainer\\connectors\\data_connector.py:433: The 'train_dataloader' does not have many workers which may be a bottleneck. Consider increasing the value of the `num_workers` argument` to `num_workers=3` in the `DataLoader` to improve performance.\n",
      "E:\\anaconda\\Lib\\site-packages\\lightning\\pytorch\\loops\\fit_loop.py:310: The number of training batches (2) is smaller than the logging interval Trainer(log_every_n_steps=50). Set a lower value for log_every_n_steps if you want to see logs for the training epoch.\n"
     ]
    },
    {
     "data": {
      "application/vnd.jupyter.widget-view+json": {
       "model_id": "4077b7827d5e4cb399dfe9b0460ea430",
       "version_major": 2,
       "version_minor": 0
      },
      "text/plain": [
       "Training: |                                                                                      | 0/? [00:00<…"
      ]
     },
     "metadata": {},
     "output_type": "display_data"
    },
    {
     "name": "stderr",
     "output_type": "stream",
     "text": [
      "`Trainer.fit` stopped: `max_epochs=4000` reached.\n"
     ]
    }
   ],
   "source": [
    "trainer.fit(model2, train_dataloaders=dataloader)"
   ]
  },
  {
   "cell_type": "code",
   "execution_count": 15,
   "id": "5ab94f85-f96f-4f7a-9be1-f5327d5f01f6",
   "metadata": {},
   "outputs": [
    {
     "name": "stdout",
     "output_type": "stream",
     "text": [
      "company A, OBSERVED 0, predicted= tensor(0.0020)\n",
      "company B, OBSERVED 1, predicted= tensor(0.9298)\n"
     ]
    }
   ],
   "source": [
    "print('company A, OBSERVED 0, predicted=', model2(torch.tensor([0., 0.5, 0.25, 1.])).detach())\n",
    "\n",
    "print('company B, OBSERVED 1, predicted=', model2(torch.tensor([1., 0.5, 0.25, 1.])).detach())"
   ]
  },
  {
   "cell_type": "code",
   "execution_count": 16,
   "id": "f6cc1e56-1e4b-419f-89da-a0d123c43148",
   "metadata": {},
   "outputs": [
    {
     "name": "stdout",
     "output_type": "stream",
     "text": [
      "['lightning_logs\\\\version_2\\\\events.out.tfevents.1755241282.WIN-QQUTALPEQMA.10556.0', 'lightning_logs\\\\version_3\\\\events.out.tfevents.1755242846.WIN-QQUTALPEQMA.13560.0']\n"
     ]
    }
   ],
   "source": [
    "import glob\n",
    "logs = glob.glob(\"**/events.out.tfevents.*\", recursive=True)\n",
    "print(logs)"
   ]
  },
  {
   "cell_type": "code",
   "execution_count": 19,
   "id": "70e38354-033f-4392-83de-fc39c6676ae7",
   "metadata": {},
   "outputs": [],
   "source": [
    "path_to_best_checkpoint = trainer.checkpoint_callback.best_model_path"
   ]
  },
  {
   "cell_type": "code",
   "execution_count": 21,
   "id": "baead0cb-fbeb-4a57-a07a-406b8eefc856",
   "metadata": {},
   "outputs": [
    {
     "name": "stderr",
     "output_type": "stream",
     "text": [
      "💡 Tip: For seamless cloud uploads and versioning, try installing [litmodels](https://pypi.org/project/litmodels/) to enable LitModelCheckpoint, which syncs automatically with the Lightning model registry.\n",
      "GPU available: False, used: False\n",
      "TPU available: False, using: 0 TPU cores\n",
      "HPU available: False, using: 0 HPUs\n",
      "Restoring states from the checkpoint path at C:\\Users\\user\\lightning_logs\\version_3\\checkpoints\\epoch=3999-step=8000.ckpt\n",
      "E:\\anaconda\\Lib\\site-packages\\lightning\\pytorch\\callbacks\\model_checkpoint.py:395: The dirpath has changed from 'C:\\\\Users\\\\user\\\\lightning_logs\\\\version_3\\\\checkpoints' to 'C:\\\\Users\\\\user\\\\lightning_logs\\\\version_4\\\\checkpoints', therefore `best_model_score`, `kth_best_model_path`, `kth_value`, `last_model_path` and `best_k_models` won't be reloaded. Only `best_model_path` will be reloaded.\n",
      "\n",
      "  | Name         | Type | Params | Mode\n",
      "---------------------------------------------\n",
      "  | other params | n/a  | 12     | n/a \n",
      "---------------------------------------------\n",
      "12        Trainable params\n",
      "0         Non-trainable params\n",
      "12        Total params\n",
      "0.000     Total estimated model params size (MB)\n",
      "0         Modules in train mode\n",
      "0         Modules in eval mode\n",
      "Restored all states from the checkpoint at C:\\Users\\user\\lightning_logs\\version_3\\checkpoints\\epoch=3999-step=8000.ckpt\n",
      "E:\\anaconda\\Lib\\site-packages\\lightning\\pytorch\\trainer\\connectors\\data_connector.py:433: The 'train_dataloader' does not have many workers which may be a bottleneck. Consider increasing the value of the `num_workers` argument` to `num_workers=3` in the `DataLoader` to improve performance.\n",
      "E:\\anaconda\\Lib\\site-packages\\lightning\\pytorch\\loops\\fit_loop.py:310: The number of training batches (2) is smaller than the logging interval Trainer(log_every_n_steps=50). Set a lower value for log_every_n_steps if you want to see logs for the training epoch.\n"
     ]
    },
    {
     "data": {
      "application/vnd.jupyter.widget-view+json": {
       "model_id": "d35c9dd7050741bea8e9d8e54d315021",
       "version_major": 2,
       "version_minor": 0
      },
      "text/plain": [
       "Training: |                                                                                      | 0/? [00:00<…"
      ]
     },
     "metadata": {},
     "output_type": "display_data"
    },
    {
     "name": "stderr",
     "output_type": "stream",
     "text": [
      "`Trainer.fit` stopped: `max_epochs=5000` reached.\n"
     ]
    }
   ],
   "source": [
    "trainer = L.Trainer(max_epochs=5000)\n",
    "trainer.fit(model2, train_dataloaders=dataloader, ckpt_path=path_to_best_checkpoint)"
   ]
  },
  {
   "attachments": {
    "45229822-b4cf-42c4-9ac5-ee506f63f24d.png": {
     "image/png": "[encoded data removed]"
    }
   },
   "cell_type": "markdown",
   "id": "97d98153-3c9b-4b8d-bc90-36dc8349d81d",
   "metadata": {},
   "source": [
    "![](![image.png](attachment:45229822-b4cf-42c4-9ac5-ee506f63f24d.png))"
   ]
  },
  {
   "cell_type": "markdown",
   "id": "e3d4645c-5cb5-4a8f-a552-48e9e08fc3b9",
   "metadata": {},
   "source": []
  },
  {
   "cell_type": "code",
   "execution_count": null,
   "id": "a2be4d6a-c9bf-43a4-979e-63827b0cd3ee",
   "metadata": {},
   "outputs": [],
   "source": []
  }
 ],
 "metadata": {
  "kernelspec": {
   "display_name": "Python [conda env:base] *",
   "language": "python",
   "name": "conda-base-py"
  },
  "language_info": {
   "codemirror_mode": {
    "name": "ipython",
    "version": 3
   },
   "file_extension": ".py",
   "mimetype": "text/x-python",
   "name": "python",
   "nbconvert_exporter": "python",
   "pygments_lexer": "ipython3",
   "version": "3.12.7"
  }
 },
 "nbformat": 4,
 "nbformat_minor": 5
}
